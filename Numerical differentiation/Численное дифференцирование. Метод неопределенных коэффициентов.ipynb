{
 "cells": [
  {
   "cell_type": "markdown",
   "metadata": {},
   "source": [
    "## Теоретическое описание метода неопределенных коэффициентов и его программная реализация\n",
    "\n",
    "Пусть в одномерной области $[x_{min}, x_{max}]$ задана равномерная сетка из $N = m + l + 1$ узлов (Равномерная сетка - сетка, расстояние между двумя любыми соседними узлами которой равно постоянному h, где h - сеточный шаг). На этой области определена бесконечно непрерывно дифференцируемая ф-я $f$. Известны значения этой ф-и во всех узлах рассматриваемой сетки $\\{f_i\\}_{i=0}^N$ (говорять, что определена сеточная ф-я - проекция ф-и на сетку). Пусть нас интересует значение производной в некотором узле $j$, слева от которого $l$ узлов, справа $m$. Построим метод максимального порядка точности по значениям функции в сеточных узлах. Для этого представим производную в узле $j$ как сумму значений ф-и во всех узлах, взятых с некоторыми весами:\n",
    "$$\n",
    "f'(x_j) \\approx \\frac{1}{h}\\sum_{k = -l}^m \\alpha_k f(x_j+kh)\n",
    "$$\n",
    "Подберем веса так, чтобы по этим значениям порядок точности был максимальным. Оказывается, что по $N$ точкам можно построить метод $N-1$-го порядка точности."
   ]
  },
  {
   "cell_type": "markdown",
   "metadata": {},
   "source": [
    "#### Контрольный вопрос: что такое порядок точности метода?\n",
    "\n",
    "Ваш ответ: *степень у $h$ в старшем члене ошибки.*"
   ]
  },
  {
   "cell_type": "markdown",
   "metadata": {},
   "source": [
    "Для этого разложим в ряд Тейлора все члены, входящие в суммирование в выбранной аппроксимации (численном приближении), относительно точки $x_j$, сгруппируем члены при одинаковых степенях и приравняем к нулю коэффициенты при степенях ниже N (кроме первой, для нее приравняем к 1). В итоге получим N уравнений относительно N неизвестных."
   ]
  },
  {
   "cell_type": "markdown",
   "metadata": {},
   "source": [
    "#### Контрольный вопрос: почему в этом случае порядок метода будет $N-1$?\n",
    "\n",
    "Ваш ответ: *при разложении линейной комбинации значений функции в узлах в ряд Тейлора наибольшая степень у $h$ равна $N$, однако по формуле выше полученное выражение необходимо поделить на $h$, из-за чего степень понижается на единицу, а порядок точности метода соответственно равняется $N-1$.*"
   ]
  },
  {
   "cell_type": "markdown",
   "metadata": {},
   "source": [
    "В матричном виде получившуюся систему можно представить как $A\\alpha = b$, где $b^T$ = $(0,1,0,...,0)^T$, а матрица A\n",
    "$$\n",
    "A = \\begin{pmatrix} \n",
    "1 & 1 & ... & 1 \\\\\n",
    "-l & -l+1 & ... & m \\\\\n",
    "(-l)^2 & (-l+1)^2 & ... & m^2 \\\\\n",
    "(-l)^3 & (-l+1)^3 & ...  & m^3 \\\\\n",
    "...&...&...&...\\\\\n",
    "\\end{pmatrix}\n",
    "$$"
   ]
  },
  {
   "cell_type": "markdown",
   "metadata": {},
   "source": [
    "#### Контрольный вопрос: как называется такая матрица? Существует ли единственное решение системы и почему?\n",
    "\n",
    "Ваш ответ: *матрица такого вида называется матрицей Вандермонда. Как известно из линейной алгебры, определитель такой матрицы равен $\\prod\\limits_{1 \\leq j < i \\leq N} (x_i - x_j)$, где $x_i, \\ i = 1, \\ldots, N$ -- элементы второй строки. Поскольку во второй строке рассматриваемой нами матрицы стоят номера узлов, а они различны, то определитель не равен нулю. Таким образом, поскольку матрица невырождена, система имеет единственное решение.*"
   ]
  },
  {
   "cell_type": "code",
   "execution_count": 5,
   "metadata": {
    "scrolled": true
   },
   "outputs": [
    {
     "name": "stdout",
     "output_type": "stream",
     "text": [
      "h =  0.13089969389957473\n",
      "diff =  0.49998238989252225\n"
     ]
    }
   ],
   "source": [
    "#скрипт, который реализует описанный выше алгоритм\n",
    "import numpy as np\n",
    "import numpy.linalg as la\n",
    "\n",
    "def get_diff(u, l, m, h):\n",
    "    n = u.size\n",
    "    v = np.linspace(-l,m, n)\n",
    "    A = np.fliplr(np.vander(v, v.size)).T\n",
    "    #print(A)\n",
    "    b = np.zeros(n)\n",
    "    b[1] = 1\n",
    "    alpha = la.solve(A,b)\n",
    "    diff = 1/h*alpha.dot(u.T)\n",
    "    return diff\n",
    "\n",
    "p = 4 # порядок метода\n",
    "a = np.pi/3\n",
    "b = np.pi/2\n",
    "h = (b-a)/p\n",
    "print('h = ', h)\n",
    "x = np.linspace(a, b, p+1)\n",
    "u = np.sin(x) #ищем производную синуса\n",
    "\n",
    "diff = get_diff(u, 0, p, h)\n",
    "print('diff = ', diff)"
   ]
  },
  {
   "cell_type": "markdown",
   "metadata": {},
   "source": [
    "## Часть 1. Ошибка и обусловленность МНК"
   ]
  },
  {
   "cell_type": "markdown",
   "metadata": {
    "collapsed": true
   },
   "source": [
    "Задание:\n",
    "\n",
    "1. написать скрипт, который строит график зависимости абсолютной ошибки от числа узлов\n",
    "2. написать скрипт, который строит график зависимости числа обусловленности матрицы A системы с ростом ее размерности"
   ]
  },
  {
   "cell_type": "code",
   "execution_count": 18,
   "metadata": {},
   "outputs": [],
   "source": [
    "%matplotlib inline \n",
    "\n",
    "import matplotlib.pyplot as plt"
   ]
  },
  {
   "cell_type": "code",
   "execution_count": 45,
   "metadata": {
    "scrolled": true
   },
   "outputs": [],
   "source": [
    "# 1. скрипт, который строит график зависимости абсолютной ошибки от числа узлов\n",
    "def absolute_error_plot(a, b, inf, sup):\n",
    "    nodes = np.arange(inf, sup)\n",
    "    xs = [np.linspace(a, b, k) for k in nodes]\n",
    "    us = [np.sin(x) for x in xs]\n",
    "    diffs = [get_diff(u, 0, u.size-1, (b-a)/(u.size-1)) for u in us]\n",
    "    absolute_errors = [np.abs(diff - np.cos(a)) for diff in diffs]\n",
    "    plt.plot(nodes, absolute_errors)"
   ]
  },
  {
   "cell_type": "code",
   "execution_count": 58,
   "metadata": {
    "scrolled": true
   },
   "outputs": [
    {
     "data": {
      "image/png": "[encoded data removed]",
      "text/plain": [
       "<Figure size 432x288 with 1 Axes>"
      ]
     },
     "metadata": {
      "needs_background": "light"
     },
     "output_type": "display_data"
    }
   ],
   "source": [
    "absolute_error_plot(np.pi/3, np.pi/2, 2, 25)"
   ]
  },
  {
   "cell_type": "code",
   "execution_count": 46,
   "metadata": {},
   "outputs": [],
   "source": [
    "# 2. скрипт, который строит график зависимости числа обусловленности матрицы A системы с ростом ее размерности"
   ]
  },
  {
   "cell_type": "code",
   "execution_count": 52,
   "metadata": {},
   "outputs": [],
   "source": [
    "def condition_number_plot(inf, sup):\n",
    "    nodes = np.arange(inf, sup)\n",
    "    vs = [np.arange(node) for node in nodes]\n",
    "    As = [np.fliplr(np.vander(v, v.size)).T for v in vs]\n",
    "    conds = [la.cond(A) for A in As]\n",
    "    plt.plot(nodes, conds)"
   ]
  },
  {
   "cell_type": "code",
   "execution_count": 57,
   "metadata": {},
   "outputs": [
    {
     "data": {
      "image/png": "[encoded data removed]",
      "text/plain": [
       "<Figure size 432x288 with 1 Axes>"
      ]
     },
     "metadata": {
      "needs_background": "light"
     },
     "output_type": "display_data"
    }
   ],
   "source": [
    "condition_number_plot(2, 23)"
   ]
  },
  {
   "cell_type": "markdown",
   "metadata": {},
   "source": [
    "## Часть 2. Оценка порядка точности метода\n",
    "\n",
    "Рассмотрим метод с порядком точности $p$. Тогда ошибка метода $\\epsilon_h = Ch^p$, где $h$ - сеточный шаг. На сетке с двое меньшим шагом ошибка метода будет $\\epsilon_{h/2} = C_1 \\left(\\frac{h}{2}\\right)^p$. Если шаг h достаточно мелкий (ф-я меняется не очень сильно), то можно считать, что $C \\approx C_1$. Тогда, исключив $C$ из первого равенства за счет второго, можно получить, что\n",
    "$$\n",
    "p = \\log_2 \\frac{\\epsilon_h}{\\epsilon_{h/2}}\n",
    "$$"
   ]
  },
  {
   "cell_type": "markdown",
   "metadata": {
    "collapsed": true
   },
   "source": [
    "Задание:\n",
    "\n",
    "3. написать скрипт, который численно будет определять порядок точности методов направленная разность и центральная разность. Построить график зависимости p от шага сетки в широком диапазоне значений h. На графике для h использовать логарифмический масштаб. Объяснить поведение графиков."
   ]
  },
  {
   "cell_type": "code",
   "execution_count": null,
   "metadata": {},
   "outputs": [],
   "source": []
  },
  {
   "cell_type": "markdown",
   "metadata": {},
   "source": [
    "## Использование sympy для дифференцирования ф-й\n",
    "\n",
    "Пакет sympy очень удобный инструмент для символьных вычислений. Но не стоит с помощью него реализовывать какие-либо численные методы. Рассмотрим пример его использования для дифференцирования:"
   ]
  },
  {
   "cell_type": "code",
   "execution_count": 12,
   "metadata": {},
   "outputs": [
    {
     "name": "stdout",
     "output_type": "stream",
     "text": [
      "Первая производная 2*x*sin(log(x)) + x*cos(log(x))\n",
      "Вторая производная sin(log(x)) + 3*cos(log(x))\n",
      "Третья производная (-3*sin(log(x)) + cos(log(x)))/x\n"
     ]
    },
    {
     "data": {
      "text/plain": [
       "-1.00000000000000"
      ]
     },
     "execution_count": 12,
     "metadata": {},
     "output_type": "execute_result"
    }
   ],
   "source": [
    "#пример взять отсюда https://maths-with-python.readthedocs.io/en/latest/07-sympy.html\n",
    "#еще про sympy можно посмотреть здесь http://www.asmeurer.com/sympy_doc/dev-py3k/tutorial/tutorial.ru.html\n",
    "import sympy as sp\n",
    "import numpy as np\n",
    "\n",
    "x = sp.Symbol('x')\n",
    "\n",
    "expression = x**2*sp.sin(sp.log(x))\n",
    "print('Первая производная', sp.diff(expression, x))\n",
    "print('Вторая производная', sp.diff(expression, x, 2))\n",
    "print('Третья производная', sp.diff(expression, x, 3))\n",
    "\n",
    "expr2 = sp.sin(x)\n",
    "expr2 = sp.diff(expr2, x, 2)\n",
    "expr2.subs(x, np.pi/2) #подстваляем значение и вычисляем символьное выражение"
   ]
  },
  {
   "cell_type": "code",
   "execution_count": null,
   "metadata": {
    "collapsed": true
   },
   "outputs": [],
   "source": []
  }
 ],
 "metadata": {
  "anaconda-cloud": {},
  "kernelspec": {
   "display_name": "Python 3",
   "language": "python",
   "name": "python3"
  },
  "language_info": {
   "codemirror_mode": {
    "name": "ipython",
    "version": 3
   },
   "file_extension": ".py",
   "mimetype": "text/x-python",
   "name": "python",
   "nbconvert_exporter": "python",
   "pygments_lexer": "ipython3",
   "version": "3.8.8"
  }
 },
 "nbformat": 4,
 "nbformat_minor": 1
}
